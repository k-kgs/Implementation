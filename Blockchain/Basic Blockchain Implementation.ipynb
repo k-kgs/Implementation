{
 "cells": [
  {
   "cell_type": "markdown",
   "metadata": {},
   "source": [
    "# Blockchain Technology"
   ]
  },
  {
   "cell_type": "markdown",
   "metadata": {},
   "source": [
    "# Design a Simple Blockchain Application\n"
   ]
  },
  {
   "cell_type": "markdown",
   "metadata": {},
   "source": [
    "1. It has five user "
   ]
  },
  {
   "cell_type": "markdown",
   "metadata": {},
   "source": [
    "2. Hash values to link as hash value of curr is dependent upon the previous one"
   ]
  },
  {
   "cell_type": "markdown",
   "metadata": {},
   "source": [
    "3. Verify amounts to be paid"
   ]
  },
  {
   "cell_type": "markdown",
   "metadata": {},
   "source": [
    "4. Automatically create block for the transactions , threshold no of trannsaction to create block is 5 here"
   ]
  },
  {
   "cell_type": "markdown",
   "metadata": {},
   "source": [
    "5. Perform transaction between them"
   ]
  },
  {
   "cell_type": "markdown",
   "metadata": {},
   "source": [
    "6. Show balance"
   ]
  },
  {
   "cell_type": "markdown",
   "metadata": {},
   "source": [
    "# Imports"
   ]
  },
  {
   "cell_type": "code",
   "execution_count": 126,
   "metadata": {},
   "outputs": [],
   "source": [
    "import hashlib as hasher\n",
    "import datetime as date"
   ]
  },
  {
   "cell_type": "markdown",
   "metadata": {},
   "source": [
    "# Block class"
   ]
  },
  {
   "cell_type": "code",
   "execution_count": 127,
   "metadata": {},
   "outputs": [],
   "source": [
    "class Block:\n",
    "    def __init__(self, index, timestamp, data, previous_hash):\n",
    "        self.index=index\n",
    "        self.timestamp=timestamp\n",
    "        self.data=data\n",
    "        self.previous_hash=previous_hash\n",
    "        self.hash=self.hash_block()\n",
    "        \n",
    "    def hash_block(self):\n",
    "        sha = hasher.sha256()\n",
    "        sha.update(str(self.index).encode('utf-8')+str(self.timestamp).encode('utf-8')+str(self.data).encode('utf-8')+str(self.previous_hash).encode('utf-8'))\n",
    "        return sha.hexdigest()\n",
    "        "
   ]
  },
  {
   "cell_type": "markdown",
   "metadata": {},
   "source": [
    "# Methods to create a block"
   ]
  },
  {
   "cell_type": "markdown",
   "metadata": {},
   "source": [
    "#Hash value of the current block is dependent on previous block So any modification will be get caught  "
   ]
  },
  {
   "cell_type": "code",
   "execution_count": 128,
   "metadata": {},
   "outputs": [],
   "source": [
    "def create_genesis_block(data):\n",
    "    return Block(0, date.datetime.now(),data, \"0\")\n",
    "\n",
    "def consc_block(prev_block, data):#using the hash value of previous block[prev_block]\n",
    "    new_index=prev_block.index+1\n",
    "    new_timestamp=date.datetime.now()\n",
    "    new_data = data\n",
    "    new_hash=prev_block.hash\n",
    "    return Block(new_index, new_timestamp, new_data, new_hash)"
   ]
  },
  {
   "cell_type": "markdown",
   "metadata": {},
   "source": [
    "# Verify will check amount availablity and verify receiver"
   ]
  },
  {
   "cell_type": "code",
   "execution_count": 129,
   "metadata": {},
   "outputs": [],
   "source": [
    "def verify(sender, amount, receiver):\n",
    "    curr_amount=database.get(sender)\n",
    "    if(curr_amount>=amount):\n",
    "        if receiver in database:\n",
    "            return True\n",
    "    else:\n",
    "        return False\n",
    "    "
   ]
  },
  {
   "cell_type": "markdown",
   "metadata": {},
   "source": [
    "# Transaction"
   ]
  },
  {
   "cell_type": "markdown",
   "metadata": {},
   "source": [
    "Perform transaction between sender and receiver "
   ]
  },
  {
   "cell_type": "markdown",
   "metadata": {},
   "source": [
    "call verify() to check weather transaction can be completed or not "
   ]
  },
  {
   "cell_type": "markdown",
   "metadata": {},
   "source": [
    "Update balance"
   ]
  },
  {
   "cell_type": "code",
   "execution_count": 130,
   "metadata": {},
   "outputs": [],
   "source": [
    "def transaction(sender, amount, receiver, curr_block): #curr_block keep track of all curr transaction\n",
    "    if(verify(sender, amount, receiver)):\n",
    "        curr_trans = {\"sender\":sender, \"amount\":amount, \"receiver\":receiver}\n",
    "        sender_new_amount = database.get(sender)\n",
    "        sender_new_amount = sender_new_amount - amount\n",
    "        database[sender]=sender_new_amount\n",
    "        receiver_amount = database.get(receiver)\n",
    "        receiver_amount+=amount\n",
    "        database[receiver]=receiver_amount\n",
    "        #now for updating block check weather it have exceeded the size \n",
    "        if(len(curr_block)<threshold_size):#no need to create a block just append in current one\n",
    "            curr_block.append(curr_trans)\n",
    "        else:\n",
    "            temp = consc_block(blockchain[len(blockchain)-1],curr_block)#create a consecutive block with the curr transactions\n",
    "            blockchain.append(temp)\n",
    "            prev_block=blockchain[len(blockchain)-1]\n",
    "            curr_block=[]\n",
    "            \n",
    "    else:\n",
    "        print(\"can not complete transaction either sender has not sufficient amount or receiver is not authorized\")\n",
    "        \n",
    "\n",
    "            \n",
    "            \n",
    "        \n",
    "        \n",
    "    "
   ]
  },
  {
   "cell_type": "markdown",
   "metadata": {},
   "source": [
    "# Work_Flow"
   ]
  },
  {
   "cell_type": "markdown",
   "metadata": {},
   "source": [
    "1. We create a database to keep track of user amount\n",
    "2. we create genesis block with initial transactions\n",
    "3. Thereafter we perform transaction "
   ]
  },
  {
   "cell_type": "code",
   "execution_count": 131,
   "metadata": {},
   "outputs": [],
   "source": [
    "#create database with initial amount\n",
    "database = {\"anirudh\":1000, \"Anamika_mam\":10000, \"vip\":1000, \"ayush\":1000, \"kgs\":1}\n",
    "blockchain=[]#nothing inside our blockchain\n",
    "curr_block=[]#empty initial block\n",
    "threshold_size=5#size of each block\n",
    "#Perform some initial transaction \n",
    "#format for transaction is [Sender, amount_to_be_sent, receiver, curr_block]\n",
    "#sender=\"Anamika_mam\"\n",
    "\n",
    "transaction(\"Anamika_mam\", 1000, \"anirudh\", curr_block)"
   ]
  },
  {
   "cell_type": "code",
   "execution_count": 132,
   "metadata": {},
   "outputs": [
    {
     "data": {
      "text/plain": [
       "[{'sender': 'Anamika_mam', 'amount': 1000, 'receiver': 'anirudh'}]"
      ]
     },
     "execution_count": 132,
     "metadata": {},
     "output_type": "execute_result"
    }
   ],
   "source": [
    "curr_block#status of curr_block"
   ]
  },
  {
   "cell_type": "code",
   "execution_count": 133,
   "metadata": {},
   "outputs": [
    {
     "name": "stdout",
     "output_type": "stream",
     "text": [
      "{'anirudh': 2000, 'Anamika_mam': 9000, 'vip': 1000, 'ayush': 1000, 'kgs': 1}\n"
     ]
    }
   ],
   "source": [
    "print(database)#see our first transaction"
   ]
  },
  {
   "cell_type": "code",
   "execution_count": 134,
   "metadata": {},
   "outputs": [],
   "source": [
    "transaction(\"Anamika_mam\", 1000, \"ayush\", curr_block)\n",
    "transaction(\"Anamika_mam\", 1000, \"vip\", curr_block)\n",
    "transaction(\"Anamika_mam\", 1000, \"kgs\", curr_block)\n",
    "transaction(\"Anamika_mam\", 1000, \"kgs\", curr_block)"
   ]
  },
  {
   "cell_type": "code",
   "execution_count": 135,
   "metadata": {},
   "outputs": [
    {
     "name": "stdout",
     "output_type": "stream",
     "text": [
      "{'anirudh': 2000, 'Anamika_mam': 5000, 'vip': 2000, 'ayush': 2000, 'kgs': 2001}\n"
     ]
    }
   ],
   "source": [
    "print(database)"
   ]
  },
  {
   "cell_type": "code",
   "execution_count": 136,
   "metadata": {},
   "outputs": [
    {
     "data": {
      "text/plain": [
       "[{'sender': 'Anamika_mam', 'amount': 1000, 'receiver': 'anirudh'},\n",
       " {'sender': 'Anamika_mam', 'amount': 1000, 'receiver': 'ayush'},\n",
       " {'sender': 'Anamika_mam', 'amount': 1000, 'receiver': 'vip'},\n",
       " {'sender': 'Anamika_mam', 'amount': 1000, 'receiver': 'kgs'},\n",
       " {'sender': 'Anamika_mam', 'amount': 1000, 'receiver': 'kgs'}]"
      ]
     },
     "execution_count": 136,
     "metadata": {},
     "output_type": "execute_result"
    }
   ],
   "source": [
    "curr_block"
   ]
  },
  {
   "cell_type": "code",
   "execution_count": 137,
   "metadata": {},
   "outputs": [],
   "source": [
    "#So we are ready to create our genesis block with these transaction\n",
    "blockchain.append(create_genesis_block(curr_block))\n",
    "curr_block=[]"
   ]
  },
  {
   "cell_type": "code",
   "execution_count": 138,
   "metadata": {},
   "outputs": [
    {
     "data": {
      "text/plain": [
       "<__main__.Block at 0x7f1b04393c90>"
      ]
     },
     "execution_count": 138,
     "metadata": {},
     "output_type": "execute_result"
    }
   ],
   "source": [
    "#print(blockchain[0].data)\n",
    "prev_block = blockchain[0]\n",
    "prev_block"
   ]
  },
  {
   "cell_type": "code",
   "execution_count": 139,
   "metadata": {},
   "outputs": [],
   "source": [
    "#Now if we perform another 6 transaction it will create a consecutive block by itself\n",
    "transaction(\"Anamika_mam\", 1000, \"kgs\", curr_block)\n",
    "transaction(\"Anamika_mam\", 1000, \"kgs\", curr_block)\n",
    "transaction(\"anirudh\", 500, \"kgs\", curr_block)\n",
    "transaction(\"ayush\", 500, \"kgs\", curr_block)\n",
    "transaction(\"vip\", 400, \"kgs\", curr_block)\n",
    "transaction(\"vip\", 100, \"kgs\", curr_block)"
   ]
  },
  {
   "cell_type": "code",
   "execution_count": 140,
   "metadata": {},
   "outputs": [
    {
     "name": "stdout",
     "output_type": "stream",
     "text": [
      "[{'sender': 'Anamika_mam', 'amount': 1000, 'receiver': 'anirudh'}, {'sender': 'Anamika_mam', 'amount': 1000, 'receiver': 'ayush'}, {'sender': 'Anamika_mam', 'amount': 1000, 'receiver': 'vip'}, {'sender': 'Anamika_mam', 'amount': 1000, 'receiver': 'kgs'}, {'sender': 'Anamika_mam', 'amount': 1000, 'receiver': 'kgs'}]\n",
      "/n\n",
      "[{'sender': 'Anamika_mam', 'amount': 1000, 'receiver': 'kgs'}, {'sender': 'Anamika_mam', 'amount': 1000, 'receiver': 'kgs'}, {'sender': 'anirudh', 'amount': 500, 'receiver': 'kgs'}, {'sender': 'ayush', 'amount': 500, 'receiver': 'kgs'}, {'sender': 'vip', 'amount': 400, 'receiver': 'kgs'}]\n",
      "/n\n"
     ]
    }
   ],
   "source": [
    "#which will reflect here\n",
    "for i in blockchain:\n",
    "    print(i.data)\n",
    "    print(\"/n\")"
   ]
  },
  {
   "cell_type": "markdown",
   "metadata": {},
   "source": [
    "# Verification of amount to be sent"
   ]
  },
  {
   "cell_type": "markdown",
   "metadata": {},
   "source": [
    "First check the database for that"
   ]
  },
  {
   "cell_type": "code",
   "execution_count": 141,
   "metadata": {},
   "outputs": [
    {
     "data": {
      "text/plain": [
       "{'anirudh': 1500, 'Anamika_mam': 3000, 'vip': 1500, 'ayush': 1500, 'kgs': 5501}"
      ]
     },
     "execution_count": 141,
     "metadata": {},
     "output_type": "execute_result"
    }
   ],
   "source": [
    "database"
   ]
  },
  {
   "cell_type": "markdown",
   "metadata": {},
   "source": [
    "Now  if anirudh try to send 3000 to ayush"
   ]
  },
  {
   "cell_type": "code",
   "execution_count": 142,
   "metadata": {},
   "outputs": [
    {
     "name": "stdout",
     "output_type": "stream",
     "text": [
      "can not complete transaction either sender has not sufficient amount or receiver is not authorized\n"
     ]
    }
   ],
   "source": [
    "transaction(\"anirudh\", 2000, \"ayush\", curr_block)"
   ]
  },
  {
   "cell_type": "markdown",
   "metadata": {},
   "source": [
    "# Verification of transaction to un_authorized person"
   ]
  },
  {
   "cell_type": "code",
   "execution_count": 143,
   "metadata": {},
   "outputs": [
    {
     "name": "stdout",
     "output_type": "stream",
     "text": [
      "can not complete transaction either sender has not sufficient amount or receiver is not authorized\n"
     ]
    }
   ],
   "source": [
    "transaction(\"anirudh\", 2000, \"super30\", curr_block)"
   ]
  },
  {
   "cell_type": "markdown",
   "metadata": {},
   "source": [
    "# Print Transactons"
   ]
  },
  {
   "cell_type": "code",
   "execution_count": 144,
   "metadata": {},
   "outputs": [
    {
     "name": "stdout",
     "output_type": "stream",
     "text": [
      "{'sender': 'Anamika_mam', 'amount': 1000, 'receiver': 'anirudh'}\n",
      "{'sender': 'Anamika_mam', 'amount': 1000, 'receiver': 'ayush'}\n",
      "{'sender': 'Anamika_mam', 'amount': 1000, 'receiver': 'vip'}\n",
      "{'sender': 'Anamika_mam', 'amount': 1000, 'receiver': 'kgs'}\n",
      "{'sender': 'Anamika_mam', 'amount': 1000, 'receiver': 'kgs'}\n",
      "/n\n",
      "{'sender': 'Anamika_mam', 'amount': 1000, 'receiver': 'kgs'}\n",
      "{'sender': 'Anamika_mam', 'amount': 1000, 'receiver': 'kgs'}\n",
      "{'sender': 'anirudh', 'amount': 500, 'receiver': 'kgs'}\n",
      "{'sender': 'ayush', 'amount': 500, 'receiver': 'kgs'}\n",
      "{'sender': 'vip', 'amount': 400, 'receiver': 'kgs'}\n",
      "/n\n"
     ]
    }
   ],
   "source": [
    "for i in blockchain:\n",
    "    for j in i.data:\n",
    "        print(j)\n",
    "    print(\"/n\")"
   ]
  },
  {
   "cell_type": "markdown",
   "metadata": {},
   "source": [
    "#       Kumar Gaurav Singh[B170090CSE]"
   ]
  }
 ],
 "metadata": {
  "kernelspec": {
   "display_name": "Python 3",
   "language": "python",
   "name": "python3"
  },
  "language_info": {
   "codemirror_mode": {
    "name": "ipython",
    "version": 3
   },
   "file_extension": ".py",
   "mimetype": "text/x-python",
   "name": "python",
   "nbconvert_exporter": "python",
   "pygments_lexer": "ipython3",
   "version": "3.7.4"
  }
 },
 "nbformat": 4,
 "nbformat_minor": 2
}
